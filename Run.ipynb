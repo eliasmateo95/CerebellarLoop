{
 "cells": [
  {
   "cell_type": "code",
   "execution_count": 1,
   "id": "cf98bd73",
   "metadata": {
    "scrolled": true
   },
   "outputs": [
    {
     "name": "stdout",
     "output_type": "stream",
     "text": [
      "[0]\n",
      "TIME: starting took 0.000s\n",
      "TIME: unfiltered: True, filtered: True, f0:0, Noise loaded took 9.425s\n",
      "False  I_c_pre = (0.00125*mS/cm**2)*(0.6*e**(-((Vd_pre/mvolt-Vd_post/mvolt)/50)**2) + 0.4)*(Vd_pre-Vd_post) : metre**-2*amp (summed)\n"
     ]
    },
    {
     "name": "stderr",
     "output_type": "stream",
     "text": [
      "WARNING    The NeuronGroup 'neurongroup_4' sets a threshold but neither a reset condition nor a refractory condition has been set. Did you forget either of those? If this was intended, set the reset argument to an empty string in order to avoid this warning. [brian2.groups.neurongroup.only_threshold]\n",
      "WARNING    The NeuronGroup 'neurongroup_10' sets a threshold but neither a reset condition nor a refractory condition has been set. Did you forget either of those? If this was intended, set the reset argument to an empty string in order to avoid this warning. [brian2.groups.neurongroup.only_threshold]\n"
     ]
    },
    {
     "name": "stdout",
     "output_type": "stream",
     "text": [
      "TIME: about to run took 1.564s\n",
      "TIME: finished run, starting to save took 218.055s\n",
      "TIME: created save folders until filtered-unfiltered took 0.008s\n",
      "TIME: starting save took 0.000s\n",
      "TIME: Seed: try_solving_weights, Noise Gain: 1, Zebrin: positive, Plasticity: Plasticity, f0: 0 took 312.352s\n",
      "TIME: starting took 0.000s\n",
      "TIME: unfiltered: True, filtered: True, f0:0, Noise loaded took 9.210s\n",
      "False  I_c_pre = (0.00125*mS/cm**2)*(0.6*e**(-((Vd_pre/mvolt-Vd_post/mvolt)/50)**2) + 0.4)*(Vd_pre-Vd_post) : metre**-2*amp (summed)\n"
     ]
    },
    {
     "name": "stderr",
     "output_type": "stream",
     "text": [
      "WARNING    The NeuronGroup 'neurongroup' sets a threshold but neither a reset condition nor a refractory condition has been set. Did you forget either of those? If this was intended, set the reset argument to an empty string in order to avoid this warning. [brian2.groups.neurongroup.only_threshold]\n",
      "WARNING    The NeuronGroup 'neurongroup_18' sets a threshold but neither a reset condition nor a refractory condition has been set. Did you forget either of those? If this was intended, set the reset argument to an empty string in order to avoid this warning. [brian2.groups.neurongroup.only_threshold]\n"
     ]
    },
    {
     "name": "stdout",
     "output_type": "stream",
     "text": [
      "TIME: about to run took 1.225s\n",
      "TIME: finished run, starting to save took 215.974s\n",
      "TIME: created save folders until filtered-unfiltered took 0.008s\n",
      "TIME: starting save took 0.000s\n",
      "TIME: Seed: try_solving_weights, Noise Gain: 1, Zebrin: negative, Plasticity: Plasticity, f0: 0 took 305.013s\n",
      "CPU times: user 18.7 s, sys: 1min 1s, total: 1min 19s\n",
      "Wall time: 10min 20s\n"
     ]
    }
   ],
   "source": [
    "%%time\n",
    "import sys, os\n",
    "year = '2023'\n",
    "path_gen = '/home/eliasmfs/Erasmus MC/Projects/CerebellarLoop'\n",
    "path_data = f'/mnt/User_Data/UserData/eliasmfs/CerebellarLoop/SlowData/'\n",
    "path_code = f'{path_gen}/Code/{year}/CerebellarLoop'\n",
    "path_functions = f'{path_code}/Functions'\n",
    "sys.path.append(path_data)\n",
    "sys.path.append(path_functions)\n",
    "from Run import *\n",
    "import decimal\n",
    "\n",
    "\n",
    "record = {}\n",
    "record['Noise'] = True\n",
    "record['PC'] = True\n",
    "record['DCN'] = True\n",
    "record['IO'] = True\n",
    "record['conn_N_PC'] = True\n",
    "record['Input_presyn'] = True\n",
    "\n",
    "\n",
    "save = 1\n",
    "show = 0\n",
    "A_w = 1.5\n",
    "\n",
    "exp_run_range = [60000]*ms\n",
    "\n",
    "network_range = [100]\n",
    "\n",
    "\n",
    "plas_range = 1\n",
    "plasticity_range = ['Plasticity']#,'after_Plasticity']\n",
    "range_plasticity = ['Plasticity']\n",
    "range_after_plasticity = ['after_Plasticity']\n",
    "if plas_range > 1:\n",
    "    for plas_num in range(2,plas_range+1):\n",
    "        plasticity_range.append(f'Plasticity{plas_num}')\n",
    "#         plasticity_range.append(f'Plasticity{plas_num}')\n",
    "        range_plasticity.append(f'Plasticity{plas_num}')\n",
    "        plasticity_range.append(f'after_Plasticity{plas_num}')\n",
    "        range_after_plasticity.append(f'after_Plasticity{plas_num}')\n",
    "\n",
    "zebrin_range = ['positive','negative']\n",
    "\n",
    "noise_gain_range =  [1]\n",
    "\n",
    "\n",
    "\n",
    "N_Cells_PF = 5\n",
    "seed_number_range = []\n",
    "for num in [4.2]:#,4.3,4.5]:#[-2.5,-2,-1.5,-1,2.5,3.5,4.5]:#[2,3,4,5]:#range(2):\n",
    "    seed_number_range.append(f'try_solving_weights')\n",
    "sims = []#'eye_blink'] \n",
    "\n",
    "f0_range = []#5,10,15,20,25,50,100,800,1000,1100,1200,1300,1400,1500]#5,10,15,20,25,50,100,800,1000,1100,1200,1300,1400,1500\n",
    "\n",
    "shunting = False\n",
    "    \n",
    "# if shunting == True:\n",
    "#     parameters_value = { \"range_plasticity\": range_plasticity, \"range_after_plasticity\": range_after_plasticity,\n",
    "#                     \"PC_I_intrinsic\": 0.15, \"thresh_M\": 80*Hz, \"delta_weight_BCM\": 0, \"delta_weight_CS\": -0.1,#-0.02\n",
    "#                     \"shunting\": shunting, \"unfiltered\": True, \"filtered\": True, \"f0_range\": f0_range, \"filter_order\": 6, \n",
    "#                     \"simulations\": sims,\n",
    "#                     \"positive\":{\n",
    "#                         \"Uncoupled\":{'w_IO_DCN': -1.8, 'PC_DCN': 6.0, 'leak': -0.001, 'gCal': 1.25, 'b_OU': -0.6, \n",
    "#                                      'sigma_OU': 0.3},\n",
    "#                         'Coupled': {'w_IO_DCN': -1.8, 'PC_DCN': 4.0, 'leak': -0.001, 'gCal': 1.25, 'b_OU': -0.3, \n",
    "#                                      'sigma_OU': 0.7}},\n",
    "#                     'negative':{\n",
    "#                         'Uncoupled': {'w_IO_DCN': -1.8, 'PC_DCN': 6.0, 'leak': -0.001, 'gCal': 1.25, 'b_OU': -0.6, \n",
    "#                                      'sigma_OU': 0.7},\n",
    "#                         'Coupled': {'w_IO_DCN': -1.6, 'PC_DCN': 6.0, 'leak': -0.003, 'gCal': 1.25, 'b_OU': -0.6, \n",
    "#                                      'sigma_OU': 0.3}}}\n",
    "# elif shunting == False:   \n",
    "parameters_value = { \"range_plasticity\": range_plasticity, \"range_after_plasticity\": range_after_plasticity,\n",
    "                \"PC_I_intrinsic\": 0.15, \"thresh_M\": 80*Hz, \"delta_weight_BCM\": 0, \"delta_weight_CS\": -0.1,#-0.02\n",
    "                \"shunting\": shunting, \"unfiltered\": True, \"filtered\": True, \"f0_range\": f0_range, \"filter_order\": 6,\n",
    "                \"simulations\": sims,\n",
    "                \"positive\":{\n",
    "                    \"Uncoupled\":{'w_IO_DCN': -2.0, 'PC_DCN': 5.0, 'leak': 0.001, 'gCal': 1.2, 'b_OU': -0.7, \n",
    "                                 'sigma_OU': 0.7},\n",
    "                    'Coupled': {'w_IO_DCN': -2.0, 'PC_DCN': 5.0, 'leak': 0.001, 'gCal': 1.4, 'b_OU': -0.3,\n",
    "                                'sigma_OU': 0.7}},\n",
    "                'negative':{\n",
    "                    'Uncoupled': {'w_IO_DCN': -1.8, 'PC_DCN': 4.0, 'leak': 0.001, 'gCal': 1.4, 'b_OU': -0.3,\n",
    "                                  'sigma_OU': 0.3},\n",
    "                    'Coupled': {'w_IO_DCN': -1.8, 'PC_DCN': 4.0, 'leak': 0.001, 'gCal': 1.4, 'b_OU': -0.6, \n",
    "                                'sigma_OU': 0.7}}}\n",
    "\n",
    "run_me(parameters_value,plasticity_range,exp_run_range,network_range,zebrin_range,noise_gain_range,record,seed_number_range,path_data,save,show)"
   ]
  },
  {
   "cell_type": "code",
   "execution_count": 2,
   "id": "25e0311a",
   "metadata": {},
   "outputs": [],
   "source": [
    "import brian2 as b2\n",
    "b2.device.delete(force=True)"
   ]
  }
 ],
 "metadata": {
  "kernelspec": {
   "display_name": "Python 3",
   "language": "python",
   "name": "python3"
  },
  "language_info": {
   "codemirror_mode": {
    "name": "ipython",
    "version": 3
   },
   "file_extension": ".py",
   "mimetype": "text/x-python",
   "name": "python",
   "nbconvert_exporter": "python",
   "pygments_lexer": "ipython3",
   "version": "3.8.10"
  }
 },
 "nbformat": 4,
 "nbformat_minor": 5
}
